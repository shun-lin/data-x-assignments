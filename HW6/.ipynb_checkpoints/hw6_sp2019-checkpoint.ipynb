{
 "cells": [
  {
   "cell_type": "markdown",
   "metadata": {},
   "source": [
    "# Data-X Spring 2019: Homework 06 \n",
    "\n",
    "## Name : Shun Lin\n",
    "## SID : 26636176\n",
    "## Course (IEOR 135/290) : IEOR 135\n",
    "\n",
    "### Machine Learning\n",
    "\n",
    "\n",
    "\n",
    "In this homework, you will do some exercises with prediction. We will cover these algorithms in class, but this is for you to have some hands on with these in scikit-learn. You can refer - https://github.com/ikhlaqsidhu/data-x/blob/master/05a-tools-predicition-titanic/titanic.ipynb\n",
    "\n",
    "Display all your outputs.\n"
   ]
  },
  {
   "cell_type": "code",
   "execution_count": 1,
   "metadata": {},
   "outputs": [],
   "source": [
    "import numpy as np\n",
    "import pandas as pd"
   ]
  },
  {
   "cell_type": "code",
   "execution_count": 2,
   "metadata": {},
   "outputs": [],
   "source": [
    " # machine learning libraries\n",
    "from sklearn.linear_model import LogisticRegression\n",
    "from sklearn.ensemble import RandomForestClassifier\n",
    "from sklearn.ensemble import AdaBoostClassifier\n",
    "from sklearn.linear_model import Perceptron\n",
    "from sklearn.tree import DecisionTreeClassifier\n",
    "from sklearn import linear_model\n",
    "\n",
    "\n",
    "# No warnings\n",
    "import warnings\n",
    "warnings.filterwarnings('ignore') # Filter out warnings"
   ]
  },
  {
   "cell_type": "markdown",
   "metadata": {},
   "source": [
    "\n",
    "\n",
    "__ 1. Read __`diabetesdata.csv`__ file into a pandas dataframe. \n",
    "About the data: __\n",
    "\n",
    "1. __TimesPregnant__: Number of times pregnant \n",
    "2. __glucoseLevel__: Plasma glucose concentration a 2 hours in an oral glucose tolerance test \n",
    "3. __BP__: Diastolic blood pressure (mm Hg)  \n",
    "5. __insulin__: 2-Hour serum insulin (mu U/ml) \n",
    "6. __BMI__: Body mass index (weight in kg/(height in m)^2) \n",
    "7. __pedigree__: Diabetes pedigree function \n",
    "8. __Age__: Age (years) \n",
    "9. __IsDiabetic__: 0 if not diabetic or 1 if diabetic) \n",
    "\n",
    "\n",
    "\n",
    "\n",
    "\n",
    "\n"
   ]
  },
  {
   "cell_type": "code",
   "execution_count": 3,
   "metadata": {},
   "outputs": [
    {
     "data": {
      "text/html": [
       "<div>\n",
       "<style scoped>\n",
       "    .dataframe tbody tr th:only-of-type {\n",
       "        vertical-align: middle;\n",
       "    }\n",
       "\n",
       "    .dataframe tbody tr th {\n",
       "        vertical-align: top;\n",
       "    }\n",
       "\n",
       "    .dataframe thead th {\n",
       "        text-align: right;\n",
       "    }\n",
       "</style>\n",
       "<table border=\"1\" class=\"dataframe\">\n",
       "  <thead>\n",
       "    <tr style=\"text-align: right;\">\n",
       "      <th></th>\n",
       "      <th>TimesPregnant</th>\n",
       "      <th>glucoseLevel</th>\n",
       "      <th>BP</th>\n",
       "      <th>insulin</th>\n",
       "      <th>BMI</th>\n",
       "      <th>Pedigree</th>\n",
       "      <th>Age</th>\n",
       "      <th>IsDiabetic</th>\n",
       "    </tr>\n",
       "  </thead>\n",
       "  <tbody>\n",
       "    <tr>\n",
       "      <th>0</th>\n",
       "      <td>6</td>\n",
       "      <td>148.0</td>\n",
       "      <td>72</td>\n",
       "      <td>0</td>\n",
       "      <td>33.6</td>\n",
       "      <td>0.627</td>\n",
       "      <td>50.0</td>\n",
       "      <td>1</td>\n",
       "    </tr>\n",
       "    <tr>\n",
       "      <th>1</th>\n",
       "      <td>1</td>\n",
       "      <td>NaN</td>\n",
       "      <td>66</td>\n",
       "      <td>0</td>\n",
       "      <td>26.6</td>\n",
       "      <td>0.351</td>\n",
       "      <td>31.0</td>\n",
       "      <td>0</td>\n",
       "    </tr>\n",
       "    <tr>\n",
       "      <th>2</th>\n",
       "      <td>8</td>\n",
       "      <td>183.0</td>\n",
       "      <td>64</td>\n",
       "      <td>0</td>\n",
       "      <td>23.3</td>\n",
       "      <td>0.672</td>\n",
       "      <td>NaN</td>\n",
       "      <td>1</td>\n",
       "    </tr>\n",
       "    <tr>\n",
       "      <th>3</th>\n",
       "      <td>1</td>\n",
       "      <td>NaN</td>\n",
       "      <td>66</td>\n",
       "      <td>94</td>\n",
       "      <td>28.1</td>\n",
       "      <td>0.167</td>\n",
       "      <td>21.0</td>\n",
       "      <td>0</td>\n",
       "    </tr>\n",
       "    <tr>\n",
       "      <th>4</th>\n",
       "      <td>0</td>\n",
       "      <td>137.0</td>\n",
       "      <td>40</td>\n",
       "      <td>168</td>\n",
       "      <td>43.1</td>\n",
       "      <td>2.288</td>\n",
       "      <td>33.0</td>\n",
       "      <td>1</td>\n",
       "    </tr>\n",
       "  </tbody>\n",
       "</table>\n",
       "</div>"
      ],
      "text/plain": [
       "   TimesPregnant  glucoseLevel  BP  insulin   BMI  Pedigree   Age  IsDiabetic\n",
       "0              6         148.0  72        0  33.6     0.627  50.0           1\n",
       "1              1           NaN  66        0  26.6     0.351  31.0           0\n",
       "2              8         183.0  64        0  23.3     0.672   NaN           1\n",
       "3              1           NaN  66       94  28.1     0.167  21.0           0\n",
       "4              0         137.0  40      168  43.1     2.288  33.0           1"
      ]
     },
     "execution_count": 3,
     "metadata": {},
     "output_type": "execute_result"
    }
   ],
   "source": [
    "#Read data & print the head\n",
    "\n",
    "data=pd.read_csv('diabetesdata.csv')\n",
    "data.head()\n"
   ]
  },
  {
   "cell_type": "markdown",
   "metadata": {},
   "source": [
    "**2. Calculate the percentage of Null values in each column and display it. **"
   ]
  },
  {
   "cell_type": "code",
   "execution_count": 4,
   "metadata": {},
   "outputs": [
    {
     "name": "stdout",
     "output_type": "stream",
     "text": [
      "There are 67 Nan values in the dataframe\n",
      "\n",
      "Percentage of NaNs in the dataframe:\n",
      " TimesPregnant    0.000000\n",
      "glucoseLevel     0.044271\n",
      "BP               0.000000\n",
      "insulin          0.000000\n",
      "BMI              0.000000\n",
      "Pedigree         0.000000\n",
      "Age              0.042969\n",
      "IsDiabetic       0.000000\n",
      "dtype: float64\n"
     ]
    }
   ],
   "source": [
    "sum_of_nans = sum(len(data) - data.count())\n",
    "print(\"There are \" + str(sum_of_nans) + \" Nan values in the dataframe\\n\")\n",
    "print('Percentage of NaNs in the dataframe:\\n', data.isnull().sum() / len(data))"
   ]
  },
  {
   "cell_type": "markdown",
   "metadata": {},
   "source": [
    "**3. Split __`data`__  into  __`train_df`__ and __`test_df`__  with 15% as test.**\n"
   ]
  },
  {
   "cell_type": "code",
   "execution_count": null,
   "metadata": {},
   "outputs": [
    {
     "data": {
      "text/html": [
       "<div>\n",
       "<style scoped>\n",
       "    .dataframe tbody tr th:only-of-type {\n",
       "        vertical-align: middle;\n",
       "    }\n",
       "\n",
       "    .dataframe tbody tr th {\n",
       "        vertical-align: top;\n",
       "    }\n",
       "\n",
       "    .dataframe thead th {\n",
       "        text-align: right;\n",
       "    }\n",
       "</style>\n",
       "<table border=\"1\" class=\"dataframe\">\n",
       "  <thead>\n",
       "    <tr style=\"text-align: right;\">\n",
       "      <th></th>\n",
       "      <th>TimesPregnant</th>\n",
       "      <th>glucoseLevel</th>\n",
       "      <th>BP</th>\n",
       "      <th>insulin</th>\n",
       "      <th>BMI</th>\n",
       "      <th>Pedigree</th>\n",
       "      <th>Age</th>\n",
       "      <th>IsDiabetic</th>\n",
       "    </tr>\n",
       "  </thead>\n",
       "  <tbody>\n",
       "    <tr>\n",
       "      <th>458</th>\n",
       "      <td>10</td>\n",
       "      <td>148.0</td>\n",
       "      <td>84</td>\n",
       "      <td>237</td>\n",
       "      <td>37.6</td>\n",
       "      <td>1.001</td>\n",
       "      <td>51.0</td>\n",
       "      <td>1</td>\n",
       "    </tr>\n",
       "    <tr>\n",
       "      <th>635</th>\n",
       "      <td>13</td>\n",
       "      <td>104.0</td>\n",
       "      <td>72</td>\n",
       "      <td>0</td>\n",
       "      <td>31.2</td>\n",
       "      <td>0.465</td>\n",
       "      <td>38.0</td>\n",
       "      <td>1</td>\n",
       "    </tr>\n",
       "    <tr>\n",
       "      <th>457</th>\n",
       "      <td>5</td>\n",
       "      <td>86.0</td>\n",
       "      <td>68</td>\n",
       "      <td>71</td>\n",
       "      <td>30.2</td>\n",
       "      <td>0.364</td>\n",
       "      <td>24.0</td>\n",
       "      <td>0</td>\n",
       "    </tr>\n",
       "    <tr>\n",
       "      <th>674</th>\n",
       "      <td>8</td>\n",
       "      <td>91.0</td>\n",
       "      <td>82</td>\n",
       "      <td>0</td>\n",
       "      <td>35.6</td>\n",
       "      <td>0.587</td>\n",
       "      <td>68.0</td>\n",
       "      <td>0</td>\n",
       "    </tr>\n",
       "    <tr>\n",
       "      <th>277</th>\n",
       "      <td>0</td>\n",
       "      <td>104.0</td>\n",
       "      <td>64</td>\n",
       "      <td>116</td>\n",
       "      <td>27.8</td>\n",
       "      <td>0.454</td>\n",
       "      <td>23.0</td>\n",
       "      <td>0</td>\n",
       "    </tr>\n",
       "  </tbody>\n",
       "</table>\n",
       "</div>"
      ],
      "text/plain": [
       "     TimesPregnant  glucoseLevel  BP  insulin   BMI  Pedigree   Age  \\\n",
       "458             10         148.0  84      237  37.6     1.001  51.0   \n",
       "635             13         104.0  72        0  31.2     0.465  38.0   \n",
       "457              5          86.0  68       71  30.2     0.364  24.0   \n",
       "674              8          91.0  82        0  35.6     0.587  68.0   \n",
       "277              0         104.0  64      116  27.8     0.454  23.0   \n",
       "\n",
       "     IsDiabetic  \n",
       "458           1  \n",
       "635           1  \n",
       "457           0  \n",
       "674           0  \n",
       "277           0  "
      ]
     },
     "metadata": {},
     "output_type": "display_data"
    },
    {
     "data": {
      "text/html": [
       "<div>\n",
       "<style scoped>\n",
       "    .dataframe tbody tr th:only-of-type {\n",
       "        vertical-align: middle;\n",
       "    }\n",
       "\n",
       "    .dataframe tbody tr th {\n",
       "        vertical-align: top;\n",
       "    }\n",
       "\n",
       "    .dataframe thead th {\n",
       "        text-align: right;\n",
       "    }\n",
       "</style>\n",
       "<table border=\"1\" class=\"dataframe\">\n",
       "  <thead>\n",
       "    <tr style=\"text-align: right;\">\n",
       "      <th></th>\n",
       "      <th>TimesPregnant</th>\n",
       "      <th>glucoseLevel</th>\n",
       "      <th>BP</th>\n",
       "      <th>insulin</th>\n",
       "      <th>BMI</th>\n",
       "      <th>Pedigree</th>\n",
       "      <th>Age</th>\n",
       "      <th>IsDiabetic</th>\n",
       "    </tr>\n",
       "  </thead>\n",
       "  <tbody>\n",
       "    <tr>\n",
       "      <th>173</th>\n",
       "      <td>1</td>\n",
       "      <td>79.0</td>\n",
       "      <td>60</td>\n",
       "      <td>48</td>\n",
       "      <td>43.5</td>\n",
       "      <td>0.678</td>\n",
       "      <td>23.0</td>\n",
       "      <td>0</td>\n",
       "    </tr>\n",
       "    <tr>\n",
       "      <th>253</th>\n",
       "      <td>0</td>\n",
       "      <td>86.0</td>\n",
       "      <td>68</td>\n",
       "      <td>0</td>\n",
       "      <td>35.8</td>\n",
       "      <td>0.238</td>\n",
       "      <td>25.0</td>\n",
       "      <td>0</td>\n",
       "    </tr>\n",
       "    <tr>\n",
       "      <th>207</th>\n",
       "      <td>5</td>\n",
       "      <td>162.0</td>\n",
       "      <td>104</td>\n",
       "      <td>0</td>\n",
       "      <td>37.7</td>\n",
       "      <td>0.151</td>\n",
       "      <td>52.0</td>\n",
       "      <td>1</td>\n",
       "    </tr>\n",
       "    <tr>\n",
       "      <th>737</th>\n",
       "      <td>8</td>\n",
       "      <td>NaN</td>\n",
       "      <td>72</td>\n",
       "      <td>0</td>\n",
       "      <td>32.0</td>\n",
       "      <td>0.600</td>\n",
       "      <td>42.0</td>\n",
       "      <td>0</td>\n",
       "    </tr>\n",
       "    <tr>\n",
       "      <th>191</th>\n",
       "      <td>9</td>\n",
       "      <td>123.0</td>\n",
       "      <td>70</td>\n",
       "      <td>94</td>\n",
       "      <td>33.1</td>\n",
       "      <td>0.374</td>\n",
       "      <td>40.0</td>\n",
       "      <td>0</td>\n",
       "    </tr>\n",
       "  </tbody>\n",
       "</table>\n",
       "</div>"
      ],
      "text/plain": [
       "     TimesPregnant  glucoseLevel   BP  insulin   BMI  Pedigree   Age  \\\n",
       "173              1          79.0   60       48  43.5     0.678  23.0   \n",
       "253              0          86.0   68        0  35.8     0.238  25.0   \n",
       "207              5         162.0  104        0  37.7     0.151  52.0   \n",
       "737              8           NaN   72        0  32.0     0.600  42.0   \n",
       "191              9         123.0   70       94  33.1     0.374  40.0   \n",
       "\n",
       "     IsDiabetic  \n",
       "173           0  \n",
       "253           0  \n",
       "207           1  \n",
       "737           0  \n",
       "191           0  "
      ]
     },
     "metadata": {},
     "output_type": "display_data"
    }
   ],
   "source": [
    "from IPython.display import display\n",
    "from sklearn.model_selection import train_test_split\n",
    "\n",
    "train_df, test_df = train_test_split(data, test_size=0.15, random_state=100)\n",
    "\n",
    "display(train_df.head())\n",
    "display(test_df.head())\n"
   ]
  },
  {
   "cell_type": "markdown",
   "metadata": {},
   "source": [
    "**4. Display the means of the features in train and test sets. Replace the null values in  __`train_df`__ and __`test_df`__  with the mean of EACH feature column separately for train and test. Display head of the dataframes.**"
   ]
  },
  {
   "cell_type": "code",
   "execution_count": null,
   "metadata": {},
   "outputs": [
    {
     "name": "stdout",
     "output_type": "stream",
     "text": [
      "The means for each features in the train_df is: \n"
     ]
    },
    {
     "data": {
      "text/plain": [
       "TimesPregnant      3.797546\n",
       "glucoseLevel     120.691318\n",
       "BP                68.828221\n",
       "insulin           78.743865\n",
       "BMI               31.810890\n",
       "Pedigree           0.469097\n",
       "Age               33.375602\n",
       "IsDiabetic         0.348160\n",
       "dtype: float64"
      ]
     },
     "metadata": {},
     "output_type": "display_data"
    },
    {
     "name": "stdout",
     "output_type": "stream",
     "text": [
      "\n",
      "\n",
      "The means for each features in the test_df is: \n"
     ]
    },
    {
     "data": {
      "text/plain": [
       "TimesPregnant      4.112069\n",
       "glucoseLevel     122.821429\n",
       "BP                70.663793\n",
       "insulin           85.732759\n",
       "BMI               33.013793\n",
       "Pedigree           0.487500\n",
       "Age               33.232143\n",
       "IsDiabetic         0.353448\n",
       "dtype: float64"
      ]
     },
     "metadata": {},
     "output_type": "display_data"
    },
    {
     "name": "stdout",
     "output_type": "stream",
     "text": [
      "\n",
      "\n",
      "train_df head\n"
     ]
    },
    {
     "data": {
      "text/html": [
       "<div>\n",
       "<style scoped>\n",
       "    .dataframe tbody tr th:only-of-type {\n",
       "        vertical-align: middle;\n",
       "    }\n",
       "\n",
       "    .dataframe tbody tr th {\n",
       "        vertical-align: top;\n",
       "    }\n",
       "\n",
       "    .dataframe thead th {\n",
       "        text-align: right;\n",
       "    }\n",
       "</style>\n",
       "<table border=\"1\" class=\"dataframe\">\n",
       "  <thead>\n",
       "    <tr style=\"text-align: right;\">\n",
       "      <th></th>\n",
       "      <th>TimesPregnant</th>\n",
       "      <th>glucoseLevel</th>\n",
       "      <th>BP</th>\n",
       "      <th>insulin</th>\n",
       "      <th>BMI</th>\n",
       "      <th>Pedigree</th>\n",
       "      <th>Age</th>\n",
       "      <th>IsDiabetic</th>\n",
       "    </tr>\n",
       "  </thead>\n",
       "  <tbody>\n",
       "    <tr>\n",
       "      <th>458</th>\n",
       "      <td>10</td>\n",
       "      <td>148.0</td>\n",
       "      <td>84</td>\n",
       "      <td>237</td>\n",
       "      <td>37.6</td>\n",
       "      <td>1.001</td>\n",
       "      <td>51.0</td>\n",
       "      <td>1</td>\n",
       "    </tr>\n",
       "    <tr>\n",
       "      <th>635</th>\n",
       "      <td>13</td>\n",
       "      <td>104.0</td>\n",
       "      <td>72</td>\n",
       "      <td>0</td>\n",
       "      <td>31.2</td>\n",
       "      <td>0.465</td>\n",
       "      <td>38.0</td>\n",
       "      <td>1</td>\n",
       "    </tr>\n",
       "    <tr>\n",
       "      <th>457</th>\n",
       "      <td>5</td>\n",
       "      <td>86.0</td>\n",
       "      <td>68</td>\n",
       "      <td>71</td>\n",
       "      <td>30.2</td>\n",
       "      <td>0.364</td>\n",
       "      <td>24.0</td>\n",
       "      <td>0</td>\n",
       "    </tr>\n",
       "    <tr>\n",
       "      <th>674</th>\n",
       "      <td>8</td>\n",
       "      <td>91.0</td>\n",
       "      <td>82</td>\n",
       "      <td>0</td>\n",
       "      <td>35.6</td>\n",
       "      <td>0.587</td>\n",
       "      <td>68.0</td>\n",
       "      <td>0</td>\n",
       "    </tr>\n",
       "    <tr>\n",
       "      <th>277</th>\n",
       "      <td>0</td>\n",
       "      <td>104.0</td>\n",
       "      <td>64</td>\n",
       "      <td>116</td>\n",
       "      <td>27.8</td>\n",
       "      <td>0.454</td>\n",
       "      <td>23.0</td>\n",
       "      <td>0</td>\n",
       "    </tr>\n",
       "  </tbody>\n",
       "</table>\n",
       "</div>"
      ],
      "text/plain": [
       "     TimesPregnant  glucoseLevel  BP  insulin   BMI  Pedigree   Age  \\\n",
       "458             10         148.0  84      237  37.6     1.001  51.0   \n",
       "635             13         104.0  72        0  31.2     0.465  38.0   \n",
       "457              5          86.0  68       71  30.2     0.364  24.0   \n",
       "674              8          91.0  82        0  35.6     0.587  68.0   \n",
       "277              0         104.0  64      116  27.8     0.454  23.0   \n",
       "\n",
       "     IsDiabetic  \n",
       "458           1  \n",
       "635           1  \n",
       "457           0  \n",
       "674           0  \n",
       "277           0  "
      ]
     },
     "metadata": {},
     "output_type": "display_data"
    },
    {
     "name": "stdout",
     "output_type": "stream",
     "text": [
      "test_df head\n"
     ]
    },
    {
     "data": {
      "text/html": [
       "<div>\n",
       "<style scoped>\n",
       "    .dataframe tbody tr th:only-of-type {\n",
       "        vertical-align: middle;\n",
       "    }\n",
       "\n",
       "    .dataframe tbody tr th {\n",
       "        vertical-align: top;\n",
       "    }\n",
       "\n",
       "    .dataframe thead th {\n",
       "        text-align: right;\n",
       "    }\n",
       "</style>\n",
       "<table border=\"1\" class=\"dataframe\">\n",
       "  <thead>\n",
       "    <tr style=\"text-align: right;\">\n",
       "      <th></th>\n",
       "      <th>TimesPregnant</th>\n",
       "      <th>glucoseLevel</th>\n",
       "      <th>BP</th>\n",
       "      <th>insulin</th>\n",
       "      <th>BMI</th>\n",
       "      <th>Pedigree</th>\n",
       "      <th>Age</th>\n",
       "      <th>IsDiabetic</th>\n",
       "    </tr>\n",
       "  </thead>\n",
       "  <tbody>\n",
       "    <tr>\n",
       "      <th>173</th>\n",
       "      <td>1</td>\n",
       "      <td>79.000000</td>\n",
       "      <td>60</td>\n",
       "      <td>48</td>\n",
       "      <td>43.5</td>\n",
       "      <td>0.678</td>\n",
       "      <td>23.0</td>\n",
       "      <td>0</td>\n",
       "    </tr>\n",
       "    <tr>\n",
       "      <th>253</th>\n",
       "      <td>0</td>\n",
       "      <td>86.000000</td>\n",
       "      <td>68</td>\n",
       "      <td>0</td>\n",
       "      <td>35.8</td>\n",
       "      <td>0.238</td>\n",
       "      <td>25.0</td>\n",
       "      <td>0</td>\n",
       "    </tr>\n",
       "    <tr>\n",
       "      <th>207</th>\n",
       "      <td>5</td>\n",
       "      <td>162.000000</td>\n",
       "      <td>104</td>\n",
       "      <td>0</td>\n",
       "      <td>37.7</td>\n",
       "      <td>0.151</td>\n",
       "      <td>52.0</td>\n",
       "      <td>1</td>\n",
       "    </tr>\n",
       "    <tr>\n",
       "      <th>737</th>\n",
       "      <td>8</td>\n",
       "      <td>122.821429</td>\n",
       "      <td>72</td>\n",
       "      <td>0</td>\n",
       "      <td>32.0</td>\n",
       "      <td>0.600</td>\n",
       "      <td>42.0</td>\n",
       "      <td>0</td>\n",
       "    </tr>\n",
       "    <tr>\n",
       "      <th>191</th>\n",
       "      <td>9</td>\n",
       "      <td>123.000000</td>\n",
       "      <td>70</td>\n",
       "      <td>94</td>\n",
       "      <td>33.1</td>\n",
       "      <td>0.374</td>\n",
       "      <td>40.0</td>\n",
       "      <td>0</td>\n",
       "    </tr>\n",
       "  </tbody>\n",
       "</table>\n",
       "</div>"
      ],
      "text/plain": [
       "     TimesPregnant  glucoseLevel   BP  insulin   BMI  Pedigree   Age  \\\n",
       "173              1     79.000000   60       48  43.5     0.678  23.0   \n",
       "253              0     86.000000   68        0  35.8     0.238  25.0   \n",
       "207              5    162.000000  104        0  37.7     0.151  52.0   \n",
       "737              8    122.821429   72        0  32.0     0.600  42.0   \n",
       "191              9    123.000000   70       94  33.1     0.374  40.0   \n",
       "\n",
       "     IsDiabetic  \n",
       "173           0  \n",
       "253           0  \n",
       "207           1  \n",
       "737           0  \n",
       "191           0  "
      ]
     },
     "metadata": {},
     "output_type": "display_data"
    }
   ],
   "source": [
    "print(\"The means for each features in the train_df is: \")\n",
    "display(train_df.mean())\n",
    "print(\"\\n\")\n",
    "print(\"The means for each features in the test_df is: \")\n",
    "display(test_df.mean())\n",
    "print(\"\\n\")\n",
    "\n",
    "# replace Nan with means\n",
    "train_df.fillna(train_df.mean(), inplace=True)\n",
    "test_df.fillna(test_df.mean(), inplace=True)\n",
    "\n",
    "print(\"train_df head\")\n",
    "display(train_df.head())\n",
    "print(\"test_df head\")\n",
    "display(test_df.head())"
   ]
  },
  {
   "cell_type": "markdown",
   "metadata": {},
   "source": [
    "**5. Split __`train_df`__ & __`test_df`__   into  __`X_train`__, __`Y_train`__  and __`X_test`__, __`Y_test`__. __`Y_train`__  and __`Y_test`__ should only have the column we are trying to predict,  __`IsDiabetic`__.**"
   ]
  },
  {
   "cell_type": "code",
   "execution_count": null,
   "metadata": {},
   "outputs": [
    {
     "name": "stdout",
     "output_type": "stream",
     "text": [
      "X_train head\n"
     ]
    },
    {
     "data": {
      "text/html": [
       "<div>\n",
       "<style scoped>\n",
       "    .dataframe tbody tr th:only-of-type {\n",
       "        vertical-align: middle;\n",
       "    }\n",
       "\n",
       "    .dataframe tbody tr th {\n",
       "        vertical-align: top;\n",
       "    }\n",
       "\n",
       "    .dataframe thead th {\n",
       "        text-align: right;\n",
       "    }\n",
       "</style>\n",
       "<table border=\"1\" class=\"dataframe\">\n",
       "  <thead>\n",
       "    <tr style=\"text-align: right;\">\n",
       "      <th></th>\n",
       "      <th>TimesPregnant</th>\n",
       "      <th>glucoseLevel</th>\n",
       "      <th>BP</th>\n",
       "      <th>insulin</th>\n",
       "      <th>BMI</th>\n",
       "      <th>Pedigree</th>\n",
       "      <th>Age</th>\n",
       "    </tr>\n",
       "  </thead>\n",
       "  <tbody>\n",
       "    <tr>\n",
       "      <th>458</th>\n",
       "      <td>10</td>\n",
       "      <td>148.0</td>\n",
       "      <td>84</td>\n",
       "      <td>237</td>\n",
       "      <td>37.6</td>\n",
       "      <td>1.001</td>\n",
       "      <td>51.0</td>\n",
       "    </tr>\n",
       "    <tr>\n",
       "      <th>635</th>\n",
       "      <td>13</td>\n",
       "      <td>104.0</td>\n",
       "      <td>72</td>\n",
       "      <td>0</td>\n",
       "      <td>31.2</td>\n",
       "      <td>0.465</td>\n",
       "      <td>38.0</td>\n",
       "    </tr>\n",
       "    <tr>\n",
       "      <th>457</th>\n",
       "      <td>5</td>\n",
       "      <td>86.0</td>\n",
       "      <td>68</td>\n",
       "      <td>71</td>\n",
       "      <td>30.2</td>\n",
       "      <td>0.364</td>\n",
       "      <td>24.0</td>\n",
       "    </tr>\n",
       "    <tr>\n",
       "      <th>674</th>\n",
       "      <td>8</td>\n",
       "      <td>91.0</td>\n",
       "      <td>82</td>\n",
       "      <td>0</td>\n",
       "      <td>35.6</td>\n",
       "      <td>0.587</td>\n",
       "      <td>68.0</td>\n",
       "    </tr>\n",
       "    <tr>\n",
       "      <th>277</th>\n",
       "      <td>0</td>\n",
       "      <td>104.0</td>\n",
       "      <td>64</td>\n",
       "      <td>116</td>\n",
       "      <td>27.8</td>\n",
       "      <td>0.454</td>\n",
       "      <td>23.0</td>\n",
       "    </tr>\n",
       "  </tbody>\n",
       "</table>\n",
       "</div>"
      ],
      "text/plain": [
       "     TimesPregnant  glucoseLevel  BP  insulin   BMI  Pedigree   Age\n",
       "458             10         148.0  84      237  37.6     1.001  51.0\n",
       "635             13         104.0  72        0  31.2     0.465  38.0\n",
       "457              5          86.0  68       71  30.2     0.364  24.0\n",
       "674              8          91.0  82        0  35.6     0.587  68.0\n",
       "277              0         104.0  64      116  27.8     0.454  23.0"
      ]
     },
     "metadata": {},
     "output_type": "display_data"
    },
    {
     "name": "stdout",
     "output_type": "stream",
     "text": [
      "Y_train head\n"
     ]
    },
    {
     "data": {
      "text/html": [
       "<div>\n",
       "<style scoped>\n",
       "    .dataframe tbody tr th:only-of-type {\n",
       "        vertical-align: middle;\n",
       "    }\n",
       "\n",
       "    .dataframe tbody tr th {\n",
       "        vertical-align: top;\n",
       "    }\n",
       "\n",
       "    .dataframe thead th {\n",
       "        text-align: right;\n",
       "    }\n",
       "</style>\n",
       "<table border=\"1\" class=\"dataframe\">\n",
       "  <thead>\n",
       "    <tr style=\"text-align: right;\">\n",
       "      <th></th>\n",
       "      <th>IsDiabetic</th>\n",
       "    </tr>\n",
       "  </thead>\n",
       "  <tbody>\n",
       "    <tr>\n",
       "      <th>458</th>\n",
       "      <td>1</td>\n",
       "    </tr>\n",
       "    <tr>\n",
       "      <th>635</th>\n",
       "      <td>1</td>\n",
       "    </tr>\n",
       "    <tr>\n",
       "      <th>457</th>\n",
       "      <td>0</td>\n",
       "    </tr>\n",
       "    <tr>\n",
       "      <th>674</th>\n",
       "      <td>0</td>\n",
       "    </tr>\n",
       "    <tr>\n",
       "      <th>277</th>\n",
       "      <td>0</td>\n",
       "    </tr>\n",
       "  </tbody>\n",
       "</table>\n",
       "</div>"
      ],
      "text/plain": [
       "     IsDiabetic\n",
       "458           1\n",
       "635           1\n",
       "457           0\n",
       "674           0\n",
       "277           0"
      ]
     },
     "metadata": {},
     "output_type": "display_data"
    },
    {
     "name": "stdout",
     "output_type": "stream",
     "text": [
      "X_test head\n"
     ]
    },
    {
     "data": {
      "text/html": [
       "<div>\n",
       "<style scoped>\n",
       "    .dataframe tbody tr th:only-of-type {\n",
       "        vertical-align: middle;\n",
       "    }\n",
       "\n",
       "    .dataframe tbody tr th {\n",
       "        vertical-align: top;\n",
       "    }\n",
       "\n",
       "    .dataframe thead th {\n",
       "        text-align: right;\n",
       "    }\n",
       "</style>\n",
       "<table border=\"1\" class=\"dataframe\">\n",
       "  <thead>\n",
       "    <tr style=\"text-align: right;\">\n",
       "      <th></th>\n",
       "      <th>TimesPregnant</th>\n",
       "      <th>glucoseLevel</th>\n",
       "      <th>BP</th>\n",
       "      <th>insulin</th>\n",
       "      <th>BMI</th>\n",
       "      <th>Pedigree</th>\n",
       "      <th>Age</th>\n",
       "    </tr>\n",
       "  </thead>\n",
       "  <tbody>\n",
       "    <tr>\n",
       "      <th>173</th>\n",
       "      <td>1</td>\n",
       "      <td>79.000000</td>\n",
       "      <td>60</td>\n",
       "      <td>48</td>\n",
       "      <td>43.5</td>\n",
       "      <td>0.678</td>\n",
       "      <td>23.0</td>\n",
       "    </tr>\n",
       "    <tr>\n",
       "      <th>253</th>\n",
       "      <td>0</td>\n",
       "      <td>86.000000</td>\n",
       "      <td>68</td>\n",
       "      <td>0</td>\n",
       "      <td>35.8</td>\n",
       "      <td>0.238</td>\n",
       "      <td>25.0</td>\n",
       "    </tr>\n",
       "    <tr>\n",
       "      <th>207</th>\n",
       "      <td>5</td>\n",
       "      <td>162.000000</td>\n",
       "      <td>104</td>\n",
       "      <td>0</td>\n",
       "      <td>37.7</td>\n",
       "      <td>0.151</td>\n",
       "      <td>52.0</td>\n",
       "    </tr>\n",
       "    <tr>\n",
       "      <th>737</th>\n",
       "      <td>8</td>\n",
       "      <td>122.821429</td>\n",
       "      <td>72</td>\n",
       "      <td>0</td>\n",
       "      <td>32.0</td>\n",
       "      <td>0.600</td>\n",
       "      <td>42.0</td>\n",
       "    </tr>\n",
       "    <tr>\n",
       "      <th>191</th>\n",
       "      <td>9</td>\n",
       "      <td>123.000000</td>\n",
       "      <td>70</td>\n",
       "      <td>94</td>\n",
       "      <td>33.1</td>\n",
       "      <td>0.374</td>\n",
       "      <td>40.0</td>\n",
       "    </tr>\n",
       "  </tbody>\n",
       "</table>\n",
       "</div>"
      ],
      "text/plain": [
       "     TimesPregnant  glucoseLevel   BP  insulin   BMI  Pedigree   Age\n",
       "173              1     79.000000   60       48  43.5     0.678  23.0\n",
       "253              0     86.000000   68        0  35.8     0.238  25.0\n",
       "207              5    162.000000  104        0  37.7     0.151  52.0\n",
       "737              8    122.821429   72        0  32.0     0.600  42.0\n",
       "191              9    123.000000   70       94  33.1     0.374  40.0"
      ]
     },
     "metadata": {},
     "output_type": "display_data"
    },
    {
     "name": "stdout",
     "output_type": "stream",
     "text": [
      "Y_test head\n"
     ]
    },
    {
     "data": {
      "text/html": [
       "<div>\n",
       "<style scoped>\n",
       "    .dataframe tbody tr th:only-of-type {\n",
       "        vertical-align: middle;\n",
       "    }\n",
       "\n",
       "    .dataframe tbody tr th {\n",
       "        vertical-align: top;\n",
       "    }\n",
       "\n",
       "    .dataframe thead th {\n",
       "        text-align: right;\n",
       "    }\n",
       "</style>\n",
       "<table border=\"1\" class=\"dataframe\">\n",
       "  <thead>\n",
       "    <tr style=\"text-align: right;\">\n",
       "      <th></th>\n",
       "      <th>IsDiabetic</th>\n",
       "    </tr>\n",
       "  </thead>\n",
       "  <tbody>\n",
       "    <tr>\n",
       "      <th>173</th>\n",
       "      <td>0</td>\n",
       "    </tr>\n",
       "    <tr>\n",
       "      <th>253</th>\n",
       "      <td>0</td>\n",
       "    </tr>\n",
       "    <tr>\n",
       "      <th>207</th>\n",
       "      <td>1</td>\n",
       "    </tr>\n",
       "    <tr>\n",
       "      <th>737</th>\n",
       "      <td>0</td>\n",
       "    </tr>\n",
       "    <tr>\n",
       "      <th>191</th>\n",
       "      <td>0</td>\n",
       "    </tr>\n",
       "  </tbody>\n",
       "</table>\n",
       "</div>"
      ],
      "text/plain": [
       "     IsDiabetic\n",
       "173           0\n",
       "253           0\n",
       "207           1\n",
       "737           0\n",
       "191           0"
      ]
     },
     "metadata": {},
     "output_type": "display_data"
    }
   ],
   "source": [
    "# get X and Y\n",
    "X_train=train_df.iloc[:,:-1]\n",
    "Y_train=train_df[['IsDiabetic']]\n",
    "X_test=test_df.iloc[:,:-1]\n",
    "Y_test=test_df[['IsDiabetic']]\n",
    "\n",
    "print(\"X_train head\")\n",
    "display(X_train.head())\n",
    "print(\"Y_train head\")\n",
    "display(Y_train.head())\n",
    "print(\"X_test head\")\n",
    "display(X_test.head())\n",
    "print(\"Y_test head\")\n",
    "display(Y_test.head())"
   ]
  },
  {
   "cell_type": "markdown",
   "metadata": {},
   "source": [
    "**6. Use this dataset to train perceptron, logistic regression and random forest models using 15% test split. Report training and test accuracies. Try different hyperparameter values for these models and see if you can improve your accuracies.**"
   ]
  },
  {
   "cell_type": "code",
   "execution_count": null,
   "metadata": {},
   "outputs": [
    {
     "name": "stdout",
     "output_type": "stream",
     "text": [
      "Training a logistic Regression Model..\n",
      "Training Accuracy: 0.7745398773006135\n",
      "Testing Accuracy: 0.75 \n",
      "\n"
     ]
    }
   ],
   "source": [
    "# 6a. Logistic Regression\n",
    "LogisticRegressionModel = linear_model.LogisticRegression()\n",
    "print ('Training a logistic Regression Model..')\n",
    "LogisticRegressionModel.fit(X_train, Y_train)\n",
    "# TRAINING ACCURACY\n",
    "\n",
    "training_accuracy=LogisticRegressionModel.score(X_train,Y_train)\n",
    "print ('Training Accuracy:',training_accuracy)\n",
    "\n",
    "# TESTING ACCURACY\n",
    "\n",
    "testing_accuracy=LogisticRegressionModel.score(X_test,Y_test)\n",
    "print ('Testing Accuracy:',testing_accuracy, '\\n')\n"
   ]
  },
  {
   "cell_type": "code",
   "execution_count": null,
   "metadata": {},
   "outputs": [
    {
     "name": "stdout",
     "output_type": "stream",
     "text": [
      "Perceptron test accuracy: 41.56 %\n",
      "Perceptron test accuracy: 45.69 %\n"
     ]
    }
   ],
   "source": [
    "# 6b. Perceptron\n",
    "perceptron = Perceptron()                                    \n",
    "perceptron.fit(X_train, Y_train)    \n",
    "train_acc = perceptron.score(X_train, Y_train) \n",
    "acc_perceptron = perceptron.score(X_test, Y_test)              \n",
    "print('Perceptron test accuracy:', str(round(train_acc*100,2)),'%')\n",
    "print('Perceptron test accuracy:', str(round(acc_perceptron*100,2)),'%')\n"
   ]
  },
  {
   "cell_type": "code",
   "execution_count": null,
   "metadata": {},
   "outputs": [
    {
     "name": "stdout",
     "output_type": "stream",
     "text": [
      "K-Nearest Neighbors training accuracy: 100.0 %\n",
      "K-Nearest Neighbors testing accuracy: 72.41 %\n"
     ]
    }
   ],
   "source": [
    "# 6c. Random Forest\n",
    "random_forest = RandomForestClassifier(n_estimators=500)   \n",
    "random_forest.fit(X_train, Y_train)   \n",
    "acc_train = random_forest.score(X_train, Y_train)\n",
    "acc_rf = random_forest.score(X_test, Y_test)    \n",
    "\n",
    "print('K-Nearest Neighbors training accuracy:', str(round(acc_train*100,2)),'%')\n",
    "print('K-Nearest Neighbors testing accuracy:', str(round(acc_rf*100,2)),'%')\n"
   ]
  },
  {
   "cell_type": "markdown",
   "metadata": {},
   "source": [
    "**7. For your logistic regression model - **\n",
    "\n",
    "**a . Compute the log probability of classes in  __`IsDiabetic`__ for the first 10 samples of your train set and display it. Also display the predicted class for those samples from your logistic regression model trained before. **\n"
   ]
  },
  {
   "cell_type": "code",
   "execution_count": null,
   "metadata": {},
   "outputs": [
    {
     "name": "stdout",
     "output_type": "stream",
     "text": [
      "probability for each class for the top 10 samples\n",
      "[[0.21463785 0.78536215]\n",
      " [0.55399577 0.44600423]\n",
      " [0.8588704  0.1411296 ]\n",
      " [0.65789977 0.34210023]\n",
      " [0.86717097 0.13282903]\n",
      " [0.27150999 0.72849001]\n",
      " [0.77923657 0.22076343]\n",
      " [0.63294397 0.36705603]\n",
      " [0.63602604 0.36397396]\n",
      " [0.91826023 0.08173977]]\n",
      "\n",
      "\n",
      "log probability for each class for the top 10 samples\n",
      "[[-1.5388031  -0.24161033]\n",
      " [-0.59059823 -0.80742684]\n",
      " [-0.15213725 -1.95807663]\n",
      " [-0.41870268 -1.07265152]\n",
      " [-0.14251913 -2.01869245]\n",
      " [-1.30375635 -0.31678136]\n",
      " [-0.2494406  -1.51066359]\n",
      " [-0.45737337 -1.00224077]\n",
      " [-0.45251578 -1.01067294]\n",
      " [-0.08527446 -2.50421459]]\n",
      "\n",
      "\n",
      "predicted class for the top 10 samples\n",
      "[1 0 0 0 0 1 0 0 0 0]\n"
     ]
    }
   ],
   "source": [
    "first_10_train = X_train.head(10)\n",
    "probs = LogisticRegressionModel.predict_proba(first_10_train)\n",
    "print(\"probability for each class for the top 10 samples\")\n",
    "print(probs)\n",
    "print(\"\\n\")\n",
    "print(\"log probability for each class for the top 10 samples\")\n",
    "log_probs = np.log(probs)\n",
    "print(log_probs)\n",
    "print(\"\\n\")\n",
    "print(\"predicted class for the top 10 samples\")\n",
    "print(LogisticRegressionModel.predict(first_10_train))"
   ]
  },
  {
   "cell_type": "markdown",
   "metadata": {},
   "source": [
    "**b . Now compute the log probability of classes in  __`IsDiabetic`__ for the first 10 samples of your test set and display it. Also display the predicted class for those samples from your logistic regression model trained before.\n",
    " (using the model trained on the training set)**\n"
   ]
  },
  {
   "cell_type": "code",
   "execution_count": null,
   "metadata": {},
   "outputs": [
    {
     "name": "stdout",
     "output_type": "stream",
     "text": [
      "probability for each class for the top 10 samples\n",
      "[[0.78857689 0.21142311]\n",
      " [0.88984229 0.11015771]\n",
      " [0.42855734 0.57144266]\n",
      " [0.51234994 0.48765006]\n",
      " [0.51627081 0.48372919]\n",
      " [0.34209928 0.65790072]\n",
      " [0.0622243  0.9377757 ]\n",
      " [0.81699332 0.18300668]\n",
      " [0.19503948 0.80496052]\n",
      " [0.7219596  0.2780404 ]]\n",
      "\n",
      "\n",
      "log probability for each class for the top 10 samples\n",
      "[[-0.23752536 -1.55389391]\n",
      " [-0.11671103 -2.20584226]\n",
      " [-0.84733072 -0.55959114]\n",
      " [-0.66874742 -0.71815721]\n",
      " [-0.66112383 -0.72623005]\n",
      " [-1.0726543  -0.41870124]\n",
      " [-2.77700966 -0.06424449]\n",
      " [-0.20212436 -1.69823264]\n",
      " [-1.63455325 -0.21696205]\n",
      " [-0.3257861  -1.27998885]]\n",
      "\n",
      "\n",
      "predicted class for the top 10 samples\n",
      "[0 0 1 0 0 1 1 0 1 0]\n"
     ]
    }
   ],
   "source": [
    "first_10_test = X_test.head(10)\n",
    "probs = LogisticRegressionModel.predict_proba(first_10_test)\n",
    "print(\"probability for each class for the top 10 samples\")\n",
    "print(probs)\n",
    "print(\"\\n\")\n",
    "print(\"log probability for each class for the top 10 samples\")\n",
    "log_probs = np.log(probs)\n",
    "print(log_probs)\n",
    "print(\"\\n\")\n",
    "print(\"predicted class for the top 10 samples\")\n",
    "print(LogisticRegressionModel.predict(first_10_test))"
   ]
  },
  {
   "cell_type": "markdown",
   "metadata": {},
   "source": [
    "**c . What can you interpret from the log probabilities and the predicted classes?**\n",
    "\n"
   ]
  },
  {
   "cell_type": "markdown",
   "metadata": {},
   "source": [
    "The log probabilites is defined as \n",
    "\n",
    "$$ log(prob) $$\n",
    "\n",
    "And we know that probability lies in the range of 0 and 1, therefore the log probabiliy is less than or equal to 0. We can interpret from the log probabilities how confident our logistic model is for predicting the class of a sample. The less negative (higher) the log probabiliy is, the higher the probability our logistic model predicts for the given class. And the more negative (lower) the log probailiy is, the lower the probabiliy our logistic model predicts for the given class. Thus, given the log probabiliy, the logistic regression model will make prediction for the one that has higher log probability. Thus the predicted class for a given sample in a logistic regression model is the one that has the higher log probabiliites."
   ]
  },
  {
   "cell_type": "markdown",
   "metadata": {},
   "source": [
    "Given the log probabiliy, the logistic regression model will make prediction for the one that has higher log probability. Thus the predicted class for a given sample in a logistic regression model is the one that has the higher log probabiliites."
   ]
  },
  {
   "cell_type": "markdown",
   "metadata": {},
   "source": [
    "**8. Is mean imputation is the best type of imputation (as we did in 4.) to use? Why or why not? What are some other ways to impute the data?**"
   ]
  },
  {
   "cell_type": "markdown",
   "metadata": {},
   "source": [
    "Mean imputation may not be the best type of imputation to use, the best imputation for a column of data depends on the type of data. For glucoseLevel instead of using the mean from the data we can use what is the normal glucose level to fill in the NAN values in glucoseLevel column. For age we can use the median instead of average to fight against out-liers. For other data sometimes it is better to use 0 instead of mean/average because sometimes the absence of measurement may implies 0. Other ways to impute the data includes Substitution, hot/cold deck imputation, Regression imputation, Stochastic regression imputation, Interpolation and extrapolation.\n",
    "\n",
    "Reference:\n",
    "https://www.theanalysisfactor.com/seven-ways-to-make-up-data-common-methods-to-imputing-missing-data/"
   ]
  },
  {
   "cell_type": "code",
   "execution_count": null,
   "metadata": {},
   "outputs": [],
   "source": []
  },
  {
   "cell_type": "markdown",
   "metadata": {},
   "source": [
    "## Extra Credit (2 pts) - MANDATORY for students enrolled in IEOR 290"
   ]
  },
  {
   "cell_type": "markdown",
   "metadata": {},
   "source": [
    "\n",
    "**9.  Implement the K-Nearest Neighbours (https://en.wikipedia.org/wiki/K-nearest_neighbors_algorithm) algorithm for k=1 from scratch in python (do not use KNN from existing libraries). KNN uses Euclidean distance to find nearest neighbors. Split your dataset into test and train as before. Also fill in the null values with mean of features as done earlier. Use this algorithm to predict values for 'IsDiabetic' for your test set. Display your accuracy. **"
   ]
  },
  {
   "cell_type": "code",
   "execution_count": null,
   "metadata": {},
   "outputs": [],
   "source": [
    "import copy\n",
    "\n",
    "# get X_train, Y_train, X_test, Y_test\n",
    "X_train=train_df.iloc[:,:-1]\n",
    "Y_train=train_df[['IsDiabetic']]\n",
    "X_test=test_df.iloc[:,:-1]\n",
    "Y_test=test_df[['IsDiabetic']]\n"
   ]
  },
  {
   "cell_type": "code",
   "execution_count": null,
   "metadata": {},
   "outputs": [],
   "source": [
    "# helper functions\n",
    "def init_knn(X_train, Y_train, X_test):\n",
    "    m = len(X_test)\n",
    "    n = len(X_train)\n",
    "    \n",
    "    # neighbors are a list of votes\n",
    "    # neightors[i] = [1 0 0 1 ....] where each element is the result from a point in the X_training set\n",
    "    neighbors = [0] * m\n",
    "    \n",
    "    # Building lables so we only have to build it once\n",
    "    for i in range(m):\n",
    "        labels = [0] * n\n",
    "        distances = [0] * n\n",
    "        sample = X_test.iloc[i]\n",
    "        for j in range(n):\n",
    "            training_point = X_train.iloc[j]\n",
    "            training_label = Y_train.iloc[j][\"IsDiabetic\"]\n",
    "            distance = np.linalg.norm(sample-training_point)\n",
    "            distances[j] = distance\n",
    "            labels[j] = labels\n",
    "        sorted_neighbors = [label for _,label in sorted(zip(distances,labels))]\n",
    "        neighbors[i] = copy.deepcopy(sorted_neighbors)\n",
    "    return neighbors\n",
    "    \n",
    "def predict_knn(neighbors, k):\n",
    "    result = [0] * m\n",
    "    for i in range(m):\n",
    "        lst = neighbors[i][0:k]\n",
    "        result[i] = max(lst,key=lst.count)\n",
    "    return result\n",
    "\n",
    "def accuracy(Y_test, result):\n",
    "    true_lst = Y_test.tolist()\n",
    "    pritn(true_lst)"
   ]
  },
  {
   "cell_type": "code",
   "execution_count": null,
   "metadata": {},
   "outputs": [],
   "source": [
    "# initialize k_nn\n",
    "neighbors = init_knn(X_train, Y_train, X_test)"
   ]
  },
  {
   "cell_type": "code",
   "execution_count": null,
   "metadata": {},
   "outputs": [],
   "source": [
    "# predict\n",
    "result = predict_knn(neighbors, k)"
   ]
  },
  {
   "cell_type": "code",
   "execution_count": null,
   "metadata": {},
   "outputs": [],
   "source": [
    "# get accuracy\n",
    "acc = accuracy(Y_test, result)"
   ]
  }
 ],
 "metadata": {
  "kernel_info": {
   "name": "data-x"
  },
  "kernelspec": {
   "display_name": "Python 3",
   "language": "python",
   "name": "python3"
  },
  "language_info": {
   "codemirror_mode": {
    "name": "ipython",
    "version": 3
   },
   "file_extension": ".py",
   "mimetype": "text/x-python",
   "name": "python",
   "nbconvert_exporter": "python",
   "pygments_lexer": "ipython3",
   "version": "3.7.2"
  },
  "nteract": {
   "version": "0.7.1"
  }
 },
 "nbformat": 4,
 "nbformat_minor": 2
}
