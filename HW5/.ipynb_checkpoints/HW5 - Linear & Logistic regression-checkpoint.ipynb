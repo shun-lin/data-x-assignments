{
 "cells": [
  {
   "cell_type": "markdown",
   "metadata": {},
   "source": [
    "# Data-X Spring 2019: Homework 05\n",
    "\n",
    "### Linear regression & Logistic regression\n",
    "\n",
    "\n",
    "\n",
    "## Name: Shun Lin\n",
    "\n",
    "## SID: 26636176\n",
    "\n",
    "\n",
    "\n",
    "\n",
    "In this homework, you will do some exercises on prediction using sklearn. \n",
    "\n",
    "REMEMBER TO DISPLAY ALL OUTPUTS. If the question asks you to do something, make sure to print your results.\n"
   ]
  },
  {
   "cell_type": "markdown",
   "metadata": {},
   "source": [
    "## Part 1 - Regression"
   ]
  },
  {
   "cell_type": "markdown",
   "metadata": {},
   "source": [
    "\n",
    "### Data:\n",
    "__Data Source__:\n",
    "Data file is uploaded to bCourses and is named: __Energy.csv__ \n",
    "(Link in the Assignment details page on Bcourses) \n",
    "\n",
    "The dataset was created by Angeliki Xifara ( Civil/Structural Engineer) and was processed by Athanasios Tsanas, Oxford Centre for Industrial and Applied Mathematics, University of Oxford, UK).\n",
    "\n",
    "__Data Description__:\n",
    "\n",
    "The dataset contains eight attributes of a building (or features, denoted by X1...X8) and response being the heating load on the building, y1. \n",
    "\n",
    "* X1\tRelative Compactness \n",
    "* X2\tSurface Area \n",
    "* X3\tWall Area \n",
    "*  X4\tRoof Area \n",
    "*  X5\tOverall Height \n",
    "* X6\tOrientation \n",
    "*  X7\tGlazing Area \n",
    "*  X8\tGlazing Area Distribution \n",
    "*  y1\tHeating Load \n"
   ]
  },
  {
   "cell_type": "markdown",
   "metadata": {},
   "source": [
    "#### Q1.1\n",
    "Read the data file from the csv.\n",
    "\n",
    "Print the count of NaN values for each attribute in the dataset.\n",
    "\n",
    "Print the Range (min, max) and percentiles (25th, 50th, and 75th) of each attribute in the dataset"
   ]
  },
  {
   "cell_type": "code",
   "execution_count": 1,
   "metadata": {},
   "outputs": [
    {
     "name": "stdout",
     "output_type": "stream",
     "text": [
      "There are 0 Nan values in the dataframe\n",
      "Number of NaNs in the dataframe:\n",
      " X1    0\n",
      "X2    0\n",
      "X3    0\n",
      "X4    0\n",
      "X5    0\n",
      "X6    0\n",
      "X7    0\n",
      "X8    0\n",
      "Y1    0\n",
      "dtype: int64\n"
     ]
    },
    {
     "data": {
      "text/html": [
       "<div>\n",
       "<style scoped>\n",
       "    .dataframe tbody tr th:only-of-type {\n",
       "        vertical-align: middle;\n",
       "    }\n",
       "\n",
       "    .dataframe tbody tr th {\n",
       "        vertical-align: top;\n",
       "    }\n",
       "\n",
       "    .dataframe thead th {\n",
       "        text-align: right;\n",
       "    }\n",
       "</style>\n",
       "<table border=\"1\" class=\"dataframe\">\n",
       "  <thead>\n",
       "    <tr style=\"text-align: right;\">\n",
       "      <th></th>\n",
       "      <th>X1</th>\n",
       "      <th>X2</th>\n",
       "      <th>X3</th>\n",
       "      <th>X4</th>\n",
       "      <th>X5</th>\n",
       "      <th>X6</th>\n",
       "      <th>X7</th>\n",
       "      <th>X8</th>\n",
       "      <th>Y1</th>\n",
       "    </tr>\n",
       "  </thead>\n",
       "  <tbody>\n",
       "    <tr>\n",
       "      <th>count</th>\n",
       "      <td>768.000000</td>\n",
       "      <td>768.000000</td>\n",
       "      <td>768.000000</td>\n",
       "      <td>768.000000</td>\n",
       "      <td>768.00000</td>\n",
       "      <td>768.000000</td>\n",
       "      <td>768.000000</td>\n",
       "      <td>768.00000</td>\n",
       "      <td>768.000000</td>\n",
       "    </tr>\n",
       "    <tr>\n",
       "      <th>mean</th>\n",
       "      <td>0.764167</td>\n",
       "      <td>671.708333</td>\n",
       "      <td>318.500000</td>\n",
       "      <td>176.604167</td>\n",
       "      <td>5.25000</td>\n",
       "      <td>3.500000</td>\n",
       "      <td>0.234375</td>\n",
       "      <td>2.81250</td>\n",
       "      <td>22.307201</td>\n",
       "    </tr>\n",
       "    <tr>\n",
       "      <th>std</th>\n",
       "      <td>0.105777</td>\n",
       "      <td>88.086116</td>\n",
       "      <td>43.626481</td>\n",
       "      <td>45.165950</td>\n",
       "      <td>1.75114</td>\n",
       "      <td>1.118763</td>\n",
       "      <td>0.133221</td>\n",
       "      <td>1.55096</td>\n",
       "      <td>10.090196</td>\n",
       "    </tr>\n",
       "    <tr>\n",
       "      <th>min</th>\n",
       "      <td>0.620000</td>\n",
       "      <td>514.500000</td>\n",
       "      <td>245.000000</td>\n",
       "      <td>110.250000</td>\n",
       "      <td>3.50000</td>\n",
       "      <td>2.000000</td>\n",
       "      <td>0.000000</td>\n",
       "      <td>0.00000</td>\n",
       "      <td>6.010000</td>\n",
       "    </tr>\n",
       "    <tr>\n",
       "      <th>25%</th>\n",
       "      <td>0.682500</td>\n",
       "      <td>606.375000</td>\n",
       "      <td>294.000000</td>\n",
       "      <td>140.875000</td>\n",
       "      <td>3.50000</td>\n",
       "      <td>2.750000</td>\n",
       "      <td>0.100000</td>\n",
       "      <td>1.75000</td>\n",
       "      <td>12.992500</td>\n",
       "    </tr>\n",
       "    <tr>\n",
       "      <th>50%</th>\n",
       "      <td>0.750000</td>\n",
       "      <td>673.750000</td>\n",
       "      <td>318.500000</td>\n",
       "      <td>183.750000</td>\n",
       "      <td>5.25000</td>\n",
       "      <td>3.500000</td>\n",
       "      <td>0.250000</td>\n",
       "      <td>3.00000</td>\n",
       "      <td>18.950000</td>\n",
       "    </tr>\n",
       "    <tr>\n",
       "      <th>75%</th>\n",
       "      <td>0.830000</td>\n",
       "      <td>741.125000</td>\n",
       "      <td>343.000000</td>\n",
       "      <td>220.500000</td>\n",
       "      <td>7.00000</td>\n",
       "      <td>4.250000</td>\n",
       "      <td>0.400000</td>\n",
       "      <td>4.00000</td>\n",
       "      <td>31.667500</td>\n",
       "    </tr>\n",
       "    <tr>\n",
       "      <th>max</th>\n",
       "      <td>0.980000</td>\n",
       "      <td>808.500000</td>\n",
       "      <td>416.500000</td>\n",
       "      <td>220.500000</td>\n",
       "      <td>7.00000</td>\n",
       "      <td>5.000000</td>\n",
       "      <td>0.400000</td>\n",
       "      <td>5.00000</td>\n",
       "      <td>43.100000</td>\n",
       "    </tr>\n",
       "  </tbody>\n",
       "</table>\n",
       "</div>"
      ],
      "text/plain": [
       "               X1          X2          X3          X4         X5          X6  \\\n",
       "count  768.000000  768.000000  768.000000  768.000000  768.00000  768.000000   \n",
       "mean     0.764167  671.708333  318.500000  176.604167    5.25000    3.500000   \n",
       "std      0.105777   88.086116   43.626481   45.165950    1.75114    1.118763   \n",
       "min      0.620000  514.500000  245.000000  110.250000    3.50000    2.000000   \n",
       "25%      0.682500  606.375000  294.000000  140.875000    3.50000    2.750000   \n",
       "50%      0.750000  673.750000  318.500000  183.750000    5.25000    3.500000   \n",
       "75%      0.830000  741.125000  343.000000  220.500000    7.00000    4.250000   \n",
       "max      0.980000  808.500000  416.500000  220.500000    7.00000    5.000000   \n",
       "\n",
       "               X7         X8          Y1  \n",
       "count  768.000000  768.00000  768.000000  \n",
       "mean     0.234375    2.81250   22.307201  \n",
       "std      0.133221    1.55096   10.090196  \n",
       "min      0.000000    0.00000    6.010000  \n",
       "25%      0.100000    1.75000   12.992500  \n",
       "50%      0.250000    3.00000   18.950000  \n",
       "75%      0.400000    4.00000   31.667500  \n",
       "max      0.400000    5.00000   43.100000  "
      ]
     },
     "execution_count": 1,
     "metadata": {},
     "output_type": "execute_result"
    }
   ],
   "source": [
    "# your code\n",
    "# your code\n",
    "\n",
    "# Load required modules\n",
    "import pandas as pd\n",
    "import numpy as np\n",
    "import seaborn as sns\n",
    "import matplotlib.pyplot as plt\n",
    "\n",
    "data=pd.read_csv('Energy.csv')\n",
    "\n",
    "sum_of_nans = sum(len(data) - data.count())\n",
    "print(\"There are \" + str(sum_of_nans) + \" Nan values in the dataframe\")\n",
    "print('Number of NaNs in the dataframe:\\n',data.isnull().sum())\n",
    "\n",
    "data.describe(include='all')"
   ]
  },
  {
   "cell_type": "markdown",
   "metadata": {},
   "source": [
    " __REGRESSION__:\n",
    "\n",
    "Using the data, we want to predict \"Heating load\". The output variable is continuous. Hence, we need to use a regression algorithm.  \n",
    "\n",
    "__Q 1.2:__ \n",
    "\n",
    "Split the dataset randomly into train and test. Train a **Linear Regression** model on 80% of the data (80-20 split).\n",
    "What is the intercept and coefficient values?\n",
    "\n"
   ]
  },
  {
   "cell_type": "code",
   "execution_count": 2,
   "metadata": {},
   "outputs": [
    {
     "name": "stdout",
     "output_type": "stream",
     "text": [
      "Number of samples in training data: 614\n",
      "Number of samples in test data: 154\n",
      "Coefficients: [-6.74246975e+01 -1.18372098e+12  1.18372098e+12  2.36744196e+12\n",
      "  4.11956879e+00  1.31071107e-02  1.99659409e+01  1.90180564e-01]\n",
      "Intercepts: 88.93754071661238\n"
     ]
    }
   ],
   "source": [
    "# your code\n",
    "from sklearn.model_selection import train_test_split\n",
    "from sklearn.utils import shuffle\n",
    "from sklearn import linear_model\n",
    "\n",
    "# shuffle data and drop Nan values\n",
    "data= shuffle(data).reset_index(drop=True)\n",
    "\n",
    "# get X and Y\n",
    "X=data.iloc[:,:-1]\n",
    "Y=data['Y1']\n",
    "\n",
    "# split the train and test data\n",
    "x_train, x_test, y_train, y_test = train_test_split(X, Y, test_size=0.2, random_state=100)\n",
    "print ('Number of samples in training data:',len(x_train))\n",
    "print ('Number of samples in test data:',len(x_test))\n",
    "\n",
    "# building a linear regression model\n",
    "LinearRegressionModel= linear_model.LinearRegression()\n",
    "\n",
    "# fit the model\n",
    "LinearRegressionModel.fit(x_train, y_train)\n",
    "\n",
    "# The coefficients\n",
    "print('Coefficients:', LinearRegressionModel.coef_)\n",
    "print('Intercepts:', LinearRegressionModel.intercept_)"
   ]
  },
  {
   "cell_type": "markdown",
   "metadata": {
    "collapsed": true
   },
   "source": [
    "\n",
    "#### Q.1.3: \n",
    "\n",
    "Create a function which takes arrays of prediction and actual values of the output as parameters to calculate **'Root Mean Square error'** (RMSE) metric:  \n",
    "\n",
    "1. Use the function to calculate the training RMSE  \n",
    "2. Use the function to calculate the test RMSE\n",
    "\n"
   ]
  },
  {
   "cell_type": "code",
   "execution_count": 3,
   "metadata": {},
   "outputs": [
    {
     "name": "stdout",
     "output_type": "stream",
     "text": [
      "The training RMSE is: 2.8864199100237773\n",
      "The testing RMSE is: 3.100140402234829\n"
     ]
    }
   ],
   "source": [
    "# your code\n",
    "import numpy as np\n",
    "\n",
    "def RMSE(pred_y, true_y):\n",
    "    return np.sqrt(((pred_y - true_y) ** 2).mean())\n",
    "\n",
    "train_RMSE = RMSE(LinearRegressionModel.predict(x_train), y_train)\n",
    "test_RMSE = RMSE(LinearRegressionModel.predict(x_test), y_test)\n",
    "\n",
    "print(\"The training RMSE is: \" + str(train_RMSE))\n",
    "print(\"The testing RMSE is: \" + str(test_RMSE))"
   ]
  },
  {
   "cell_type": "markdown",
   "metadata": {},
   "source": [
    "\n",
    "#### Q1.4: \n",
    "\n",
    "Let's see the effect of amount of data on the performance of prediction model. Use varying amounts of data (100,200,300,400,500,all) from the training data you used previously to train different regression models. Report  training error and test error in each case. Test data  is the same as above for  all  these cases.\n",
    "\n",
    "**Plot error rates vs number of training examples.** Both the training error and the test error should be plotted. Comment on the relationship you observe between the amount of data used to train the model and the test accuracy of the model.\n",
    "\n",
    "__Hint:__ Use array indexing to choose varying data amounts"
   ]
  },
  {
   "cell_type": "code",
   "execution_count": 4,
   "metadata": {},
   "outputs": [
    {
     "name": "stdout",
     "output_type": "stream",
     "text": [
      "training size: 100\n",
      "The training RMSE is: 2.7095712172184503\n",
      "The testing RMSE is: 3.235891136463703\n",
      "training size: 200\n",
      "The training RMSE is: 2.8787337786435097\n",
      "The testing RMSE is: 3.120584020836615\n",
      "training size: 300\n",
      "The training RMSE is: 2.902438563872487\n",
      "The testing RMSE is: 3.0853029268638497\n",
      "training size: 400\n",
      "The training RMSE is: 2.8835567592723597\n",
      "The testing RMSE is: 3.0867271255837707\n",
      "training size: 500\n",
      "The training RMSE is: 2.904901388491885\n",
      "The testing RMSE is: 3.0901971874475205\n",
      "training size: 614\n",
      "The training RMSE is: 2.8864199100237773\n",
      "The testing RMSE is: 3.100140402234829\n"
     ]
    },
    {
     "data": {
      "image/png": "[encoded data removed]",
      "text/plain": [
       "<Figure size 432x288 with 1 Axes>"
      ]
     },
     "metadata": {},
     "output_type": "display_data"
    },
    {
     "name": "stdout",
     "output_type": "stream",
     "text": [
      "As we can see from the above plot, as we increase the training size, the training error increases while the testing error decreases. Thus as we increase the amount of data to train we generally get a more accurate model!\n"
     ]
    }
   ],
   "source": [
    "import matplotlib.pyplot as plt\n",
    "\n",
    "# your code\n",
    "training_sizes = [100,200,300,400,500,614]\n",
    "\n",
    "# initialize training and testing errors\n",
    "training_errors = []\n",
    "testing_errors = []\n",
    "\n",
    "for training_size in training_sizes:\n",
    "    print(\"training size: \" + str(training_size))\n",
    "    small_x_train = x_train[:training_size]\n",
    "    small_y_train = y_train[:training_size]\n",
    "    \n",
    "    LinearRegressionModel= linear_model.LinearRegression()\n",
    "    LinearRegressionModel.fit(small_x_train, small_y_train)\n",
    "    train_RMSE = RMSE(LinearRegressionModel.predict(small_x_train), small_y_train)\n",
    "    test_RMSE = RMSE(LinearRegressionModel.predict(x_test), y_test)\n",
    "    \n",
    "    print(\"The training RMSE is: \" + str(train_RMSE))\n",
    "    print(\"The testing RMSE is: \" + str(test_RMSE))\n",
    "    \n",
    "    training_errors.append(train_RMSE)\n",
    "    testing_errors.append(test_RMSE)\n",
    "\n",
    "# plotting\n",
    "plt.plot(training_sizes, training_errors)\n",
    "plt.plot(training_sizes, testing_errors)\n",
    "plt.xlabel('training size')\n",
    "plt.ylabel('errors')\n",
    "plt.title('training sizes vs training and testing RMSE')\n",
    "plt.xticks(())\n",
    "plt.yticks(())\n",
    "plt.legend([\"training RMSEs\", \"testing RMSEs\"])\n",
    "plt.show()\n",
    "\n",
    "# comments\n",
    "comment = \"As we can see from the above plot, as we increase the training size, the training error increases while the testing error decreases. Thus as we increase the amount of data to train we generally get a more accurate model!\"\n",
    "print(comment)"
   ]
  },
  {
   "cell_type": "markdown",
   "metadata": {},
   "source": [
    "## Part 2 - Classification"
   ]
  },
  {
   "cell_type": "markdown",
   "metadata": {},
   "source": [
    "\n",
    "__CLASSIFICATION__:\n",
    "LABELS ARE DISCRETE VALUES.\n",
    "\n",
    "Here the model is trained to classify each instance into a set of predefined discrete classes. On inputting a feature vector into the model, the trained model is able to predict a class of that instance.\n",
    "\n",
    "\n",
    "#### Q2.1\n",
    "Bucket the values of 'y1' i.e 'Heating Load'  from the original dataset into 3 classes:\n",
    "\n",
    "0: 'Low' ( < 14),   \n",
    "1: 'Medium'  (14-28),   \n",
    "2: 'High'  (>28)\n",
    "\n",
    "**HINT:** Use pandas.cut\n",
    "\n",
    "This converts the given dataset  into a classification problem. Use this dataset with transformed 'heating load' to create a **logistic regression** classifiction model that predicts heating load type of a building. Split the data randomly into training and test set. Train the model on 80% of the data (80-20 split).\n"
   ]
  },
  {
   "cell_type": "code",
   "execution_count": 5,
   "metadata": {},
   "outputs": [
    {
     "name": "stdout",
     "output_type": "stream",
     "text": [
      "0      High\n",
      "1    Medium\n",
      "2    Medium\n",
      "3      High\n",
      "4    Medium\n",
      "Name: Y1, dtype: category\n",
      "Categories (3, object): [Low < Medium < High]\n",
      "Training a logistic Regression Model..\n"
     ]
    },
    {
     "name": "stderr",
     "output_type": "stream",
     "text": [
      "/anaconda3/lib/python3.7/site-packages/sklearn/linear_model/logistic.py:433: FutureWarning: Default solver will be changed to 'lbfgs' in 0.22. Specify a solver to silence this warning.\n",
      "  FutureWarning)\n",
      "/anaconda3/lib/python3.7/site-packages/sklearn/linear_model/logistic.py:460: FutureWarning: Default multi_class will be changed to 'auto' in 0.22. Specify the multi_class option to silence this warning.\n",
      "  \"this warning.\", FutureWarning)\n"
     ]
    },
    {
     "data": {
      "text/plain": [
       "LogisticRegression(C=1.0, class_weight=None, dual=False, fit_intercept=True,\n",
       "          intercept_scaling=1, max_iter=100, multi_class='warn',\n",
       "          n_jobs=None, penalty='l2', random_state=None, solver='warn',\n",
       "          tol=0.0001, verbose=0, warm_start=False)"
      ]
     },
     "execution_count": 5,
     "metadata": {},
     "output_type": "execute_result"
    }
   ],
   "source": [
    "# your code\n",
    "# get X and Y\n",
    "X=data.iloc[:,:-1]\n",
    "Y=data['Y1']\n",
    "Y_bucketed=pd.cut(Y,[-100,14,28,100], right=False, labels=['Low', 'Medium', 'High'])\n",
    "print(Y_bucketed.head())\n",
    "\n",
    "# split the train and test data\n",
    "x_train, x_test, y_train, y_test = train_test_split(X, Y_bucketed, test_size=0.2, random_state=100)\n",
    "\n",
    "LogisticRegressionModel = linear_model.LogisticRegression()\n",
    "print ('Training a logistic Regression Model..')\n",
    "LogisticRegressionModel.fit(x_train, y_train)"
   ]
  },
  {
   "cell_type": "markdown",
   "metadata": {},
   "source": [
    "#### Q2.2 \n",
    "- Print the training and test accuracies\n",
    "- Print the confusion matrix\n",
    "- Print the precision and recall numbers for all the classes\n"
   ]
  },
  {
   "cell_type": "code",
   "execution_count": 6,
   "metadata": {},
   "outputs": [
    {
     "name": "stdout",
     "output_type": "stream",
     "text": [
      "Training Accuracy: 0.8110749185667753\n",
      "Testing Accuracy: 0.7402597402597403 \n",
      "\n",
      "Confusion matrix of test data is: \n",
      "           Predicted 0  Predicted 1  Predicted 2\n",
      "Actual 0           59            0            0\n",
      "Actual 1            0           33            3\n",
      "Actual 2           22           15           22 \n",
      "\n",
      "Average precision for the 3 classes is -  [0.72839506 0.6875     0.88      ]\n",
      "Average recall for the 3 classes is -  [1.         0.91666667 0.37288136]\n"
     ]
    }
   ],
   "source": [
    "# your code\n",
    "\n",
    "# TRAINING ACCURACY\n",
    "\n",
    "training_accuracy=LogisticRegressionModel.score(x_train,y_train)\n",
    "print ('Training Accuracy:',training_accuracy)\n",
    "\n",
    "# TESTING ACCURACY\n",
    "\n",
    "testing_accuracy=LogisticRegressionModel.score(x_test,y_test)\n",
    "print ('Testing Accuracy:',testing_accuracy, '\\n')\n",
    "\n",
    "# confusion matrix\n",
    "from sklearn.metrics import confusion_matrix\n",
    "y_true = y_test\n",
    "y_pred = LogisticRegressionModel.predict(x_test)\n",
    "ConfusionMatrix=pd.DataFrame(confusion_matrix(y_true, y_pred),columns=['Predicted 0','Predicted 1','Predicted 2'],index=['Actual 0','Actual 1','Actual 2'])\n",
    "print ('Confusion matrix of test data is: \\n',ConfusionMatrix,'\\n')\n",
    "\n",
    "# precision\n",
    "from sklearn.metrics import precision_score\n",
    "print(\"Average precision for the 3 classes is - \", precision_score(y_true, y_pred, average = None) )\n",
    "\n",
    "# recall\n",
    "from sklearn.metrics import recall_score\n",
    "print(\"Average recall for the 3 classes is - \", recall_score(y_true, y_pred, average = None) )"
   ]
  },
  {
   "cell_type": "markdown",
   "metadata": {},
   "source": [
    "#### Q2.3\n",
    "##### K Fold Cross Validation\n",
    "\n",
    " In k-fold cross-validation, the shuffled training data is partitioned into k disjoint sets and the model is trained on k −1 sets and validated on the kth set. This process is repeated k times with each set chosen as the validation set once. The cross-validation accuracy is reported as the average accuracy of the k iterations\n",
    " \n",
    "__Use 7-fold cross validation on the training data. Print the average accuracy__"
   ]
  },
  {
   "cell_type": "code",
   "execution_count": 25,
   "metadata": {},
   "outputs": [
    {
     "name": "stdout",
     "output_type": "stream",
     "text": [
      "Iteration 1: Training a logistic Regression Model..\n",
      "Validation accuracy at iteration 1 is 0.7954545454545454\n",
      "\n",
      "Iteration 2: Training a logistic Regression Model..\n",
      "Validation accuracy at iteration 2 is 0.7840909090909091\n",
      "\n",
      "Iteration 3: Training a logistic Regression Model..\n",
      "Validation accuracy at iteration 3 is 0.7727272727272727\n",
      "\n",
      "Iteration 4: Training a logistic Regression Model..\n",
      "Validation accuracy at iteration 4 is 0.75\n",
      "\n",
      "Iteration 5: Training a logistic Regression Model..\n",
      "Validation accuracy at iteration 5 is 0.8181818181818182\n",
      "\n",
      "Iteration 6: Training a logistic Regression Model..\n",
      "Validation accuracy at iteration 6 is 0.8275862068965517\n",
      "\n",
      "Iteration 7: Training a logistic Regression Model..\n",
      "Validation accuracy at iteration 7 is 0.8275862068965517\n",
      "\n",
      "The cross validation accuracy is 0.7965181370353784\n"
     ]
    },
    {
     "name": "stderr",
     "output_type": "stream",
     "text": [
      "/anaconda3/lib/python3.7/site-packages/sklearn/linear_model/logistic.py:433: FutureWarning: Default solver will be changed to 'lbfgs' in 0.22. Specify a solver to silence this warning.\n",
      "  FutureWarning)\n",
      "/anaconda3/lib/python3.7/site-packages/sklearn/linear_model/logistic.py:460: FutureWarning: Default multi_class will be changed to 'auto' in 0.22. Specify the multi_class option to silence this warning.\n",
      "  \"this warning.\", FutureWarning)\n",
      "/anaconda3/lib/python3.7/site-packages/sklearn/linear_model/logistic.py:433: FutureWarning: Default solver will be changed to 'lbfgs' in 0.22. Specify a solver to silence this warning.\n",
      "  FutureWarning)\n",
      "/anaconda3/lib/python3.7/site-packages/sklearn/linear_model/logistic.py:460: FutureWarning: Default multi_class will be changed to 'auto' in 0.22. Specify the multi_class option to silence this warning.\n",
      "  \"this warning.\", FutureWarning)\n",
      "/anaconda3/lib/python3.7/site-packages/sklearn/linear_model/logistic.py:433: FutureWarning: Default solver will be changed to 'lbfgs' in 0.22. Specify a solver to silence this warning.\n",
      "  FutureWarning)\n",
      "/anaconda3/lib/python3.7/site-packages/sklearn/linear_model/logistic.py:460: FutureWarning: Default multi_class will be changed to 'auto' in 0.22. Specify the multi_class option to silence this warning.\n",
      "  \"this warning.\", FutureWarning)\n",
      "/anaconda3/lib/python3.7/site-packages/sklearn/linear_model/logistic.py:433: FutureWarning: Default solver will be changed to 'lbfgs' in 0.22. Specify a solver to silence this warning.\n",
      "  FutureWarning)\n",
      "/anaconda3/lib/python3.7/site-packages/sklearn/linear_model/logistic.py:460: FutureWarning: Default multi_class will be changed to 'auto' in 0.22. Specify the multi_class option to silence this warning.\n",
      "  \"this warning.\", FutureWarning)\n",
      "/anaconda3/lib/python3.7/site-packages/sklearn/linear_model/logistic.py:433: FutureWarning: Default solver will be changed to 'lbfgs' in 0.22. Specify a solver to silence this warning.\n",
      "  FutureWarning)\n",
      "/anaconda3/lib/python3.7/site-packages/sklearn/linear_model/logistic.py:460: FutureWarning: Default multi_class will be changed to 'auto' in 0.22. Specify the multi_class option to silence this warning.\n",
      "  \"this warning.\", FutureWarning)\n",
      "/anaconda3/lib/python3.7/site-packages/sklearn/linear_model/logistic.py:433: FutureWarning: Default solver will be changed to 'lbfgs' in 0.22. Specify a solver to silence this warning.\n",
      "  FutureWarning)\n",
      "/anaconda3/lib/python3.7/site-packages/sklearn/linear_model/logistic.py:460: FutureWarning: Default multi_class will be changed to 'auto' in 0.22. Specify the multi_class option to silence this warning.\n",
      "  \"this warning.\", FutureWarning)\n",
      "/anaconda3/lib/python3.7/site-packages/sklearn/linear_model/logistic.py:433: FutureWarning: Default solver will be changed to 'lbfgs' in 0.22. Specify a solver to silence this warning.\n",
      "  FutureWarning)\n",
      "/anaconda3/lib/python3.7/site-packages/sklearn/linear_model/logistic.py:460: FutureWarning: Default multi_class will be changed to 'auto' in 0.22. Specify the multi_class option to silence this warning.\n",
      "  \"this warning.\", FutureWarning)\n"
     ]
    }
   ],
   "source": [
    "# your code\n",
    "from sklearn.model_selection import KFold\n",
    "\n",
    "accuracies = []\n",
    "\n",
    "kf = KFold(n_splits=7)\n",
    "i = 0\n",
    "model_storage = []\n",
    "for train_index, val_index in kf.split(x_train):\n",
    "    # keep track of iteration\n",
    "    i += 1\n",
    "    x_train_small, x_val_small = x_train.iloc[train_index], x_train.iloc[val_index]\n",
    "    y_train_small, y_val_small = y_train.iloc[train_index], y_train.iloc[val_index]\n",
    "    LogisticRegressionModel = linear_model.LogisticRegression()\n",
    "    print ('Iteration ' + str(i) + ': Training a logistic Regression Model..')\n",
    "    LogisticRegressionModel.fit(x_train_small, y_train_small)\n",
    "    model_storage.append(LogisticRegressionModel)\n",
    "    val_accuracy=LogisticRegressionModel.score(x_val_small,y_val_small)\n",
    "    accuracies.append(val_accuracy)\n",
    "    print(\"Validation accuracy at iteration \" + str(i) + \" is \" + str(val_accuracy) + '\\n')\n",
    "\n",
    "cv_accuracy = np.mean(accuracies)\n",
    "print(\"The cross validation accuracy is \" + str(cv_accuracy))\n",
    "        \n",
    "    "
   ]
  },
  {
   "cell_type": "markdown",
   "metadata": {},
   "source": [
    "__Q2.4__\n",
    "\n",
    "One of the preprocessing steps in Data science is Feature Scaling i.e getting all our data on the same scale by setting same  Min-Max of feature values. \n",
    "This makes training less sensitive to the scale of features . \n",
    "Scaling is important in algorithms that use distance functions as a part of classification. If we Scale features in the range [0,1] it is called unity based normalization.\n",
    "\n",
    "__Perform unity based normalization on the above dataset and train the model again, compare model performance in training and validation with your previous model.__  \n",
    "\n",
    "refer:http://scikit-learn.org/stable/modules/preprocessing.html#preprocessing-scaler  \n",
    "more at: https://en.wikipedia.org/wiki/Feature_scaling"
   ]
  },
  {
   "cell_type": "code",
   "execution_count": 28,
   "metadata": {},
   "outputs": [
    {
     "name": "stdout",
     "output_type": "stream",
     "text": [
      "min max scaled training data\n",
      "\n",
      "[[0.19444444 0.75       0.28571429 ... 0.33333333 1.         0.2       ]\n",
      " [0.11111111 0.83333333 0.42857143 ... 0.33333333 0.625      0.4       ]\n",
      " [0.38888889 0.5        1.         ... 0.         0.625      1.        ]\n",
      " ...\n",
      " [0.         1.         0.71428571 ... 0.33333333 1.         0.6       ]\n",
      " [0.25       0.66666667 0.14285714 ... 0.33333333 0.625      0.4       ]\n",
      " [0.55555556 0.33333333 0.42857143 ... 0.66666667 0.25       0.4       ]]\n",
      "\n",
      "Iteration 1: Training a logistic Regression Model..\n",
      "Validation accuracy at iteration 1 is 0.7954545454545454\n",
      "\n",
      "Iteration 2: Training a logistic Regression Model..\n",
      "Validation accuracy at iteration 2 is 0.8181818181818182\n",
      "\n",
      "Iteration 3: Training a logistic Regression Model..\n",
      "Validation accuracy at iteration 3 is 0.8181818181818182\n",
      "\n",
      "Iteration 4: Training a logistic Regression Model..\n",
      "Validation accuracy at iteration 4 is 0.7386363636363636\n",
      "\n",
      "Iteration 5: Training a logistic Regression Model..\n",
      "Validation accuracy at iteration 5 is 0.8295454545454546\n",
      "\n",
      "Iteration 6: Training a logistic Regression Model..\n",
      "Validation accuracy at iteration 6 is 0.8850574712643678\n",
      "\n",
      "Iteration 7: Training a logistic Regression Model..\n",
      "Validation accuracy at iteration 7 is 0.8505747126436781\n",
      "\n",
      "The cross validation accuracy is 0.819376026272578\n",
      "\n",
      "As we can see from the comparasion of the model accuracy with and without min max preprocessing that the model with the min max preprocessing is able to achieve 82% validation accuracy while the one without can only achieve 79% accuracy. Thus shows the min-max scaling preprocessing is able to help us with training our classification model.\n"
     ]
    },
    {
     "name": "stderr",
     "output_type": "stream",
     "text": [
      "/anaconda3/lib/python3.7/site-packages/sklearn/preprocessing/data.py:323: DataConversionWarning: Data with input dtype int64, float64 were all converted to float64 by MinMaxScaler.\n",
      "  return self.partial_fit(X, y)\n",
      "/anaconda3/lib/python3.7/site-packages/sklearn/linear_model/logistic.py:433: FutureWarning: Default solver will be changed to 'lbfgs' in 0.22. Specify a solver to silence this warning.\n",
      "  FutureWarning)\n",
      "/anaconda3/lib/python3.7/site-packages/sklearn/linear_model/logistic.py:460: FutureWarning: Default multi_class will be changed to 'auto' in 0.22. Specify the multi_class option to silence this warning.\n",
      "  \"this warning.\", FutureWarning)\n",
      "/anaconda3/lib/python3.7/site-packages/sklearn/linear_model/logistic.py:433: FutureWarning: Default solver will be changed to 'lbfgs' in 0.22. Specify a solver to silence this warning.\n",
      "  FutureWarning)\n",
      "/anaconda3/lib/python3.7/site-packages/sklearn/linear_model/logistic.py:460: FutureWarning: Default multi_class will be changed to 'auto' in 0.22. Specify the multi_class option to silence this warning.\n",
      "  \"this warning.\", FutureWarning)\n",
      "/anaconda3/lib/python3.7/site-packages/sklearn/linear_model/logistic.py:433: FutureWarning: Default solver will be changed to 'lbfgs' in 0.22. Specify a solver to silence this warning.\n",
      "  FutureWarning)\n",
      "/anaconda3/lib/python3.7/site-packages/sklearn/linear_model/logistic.py:460: FutureWarning: Default multi_class will be changed to 'auto' in 0.22. Specify the multi_class option to silence this warning.\n",
      "  \"this warning.\", FutureWarning)\n",
      "/anaconda3/lib/python3.7/site-packages/sklearn/linear_model/logistic.py:433: FutureWarning: Default solver will be changed to 'lbfgs' in 0.22. Specify a solver to silence this warning.\n",
      "  FutureWarning)\n",
      "/anaconda3/lib/python3.7/site-packages/sklearn/linear_model/logistic.py:460: FutureWarning: Default multi_class will be changed to 'auto' in 0.22. Specify the multi_class option to silence this warning.\n",
      "  \"this warning.\", FutureWarning)\n",
      "/anaconda3/lib/python3.7/site-packages/sklearn/linear_model/logistic.py:433: FutureWarning: Default solver will be changed to 'lbfgs' in 0.22. Specify a solver to silence this warning.\n",
      "  FutureWarning)\n",
      "/anaconda3/lib/python3.7/site-packages/sklearn/linear_model/logistic.py:460: FutureWarning: Default multi_class will be changed to 'auto' in 0.22. Specify the multi_class option to silence this warning.\n",
      "  \"this warning.\", FutureWarning)\n",
      "/anaconda3/lib/python3.7/site-packages/sklearn/linear_model/logistic.py:433: FutureWarning: Default solver will be changed to 'lbfgs' in 0.22. Specify a solver to silence this warning.\n",
      "  FutureWarning)\n",
      "/anaconda3/lib/python3.7/site-packages/sklearn/linear_model/logistic.py:460: FutureWarning: Default multi_class will be changed to 'auto' in 0.22. Specify the multi_class option to silence this warning.\n",
      "  \"this warning.\", FutureWarning)\n",
      "/anaconda3/lib/python3.7/site-packages/sklearn/linear_model/logistic.py:433: FutureWarning: Default solver will be changed to 'lbfgs' in 0.22. Specify a solver to silence this warning.\n",
      "  FutureWarning)\n",
      "/anaconda3/lib/python3.7/site-packages/sklearn/linear_model/logistic.py:460: FutureWarning: Default multi_class will be changed to 'auto' in 0.22. Specify the multi_class option to silence this warning.\n",
      "  \"this warning.\", FutureWarning)\n"
     ]
    }
   ],
   "source": [
    "# your code\n",
    "from sklearn import preprocessing\n",
    "min_max_scaler = preprocessing.MinMaxScaler()\n",
    "x_train_minmax = min_max_scaler.fit_transform(x_train)\n",
    "\n",
    "print(\"min max scaled training data\\n\")\n",
    "print(x_train_minmax)\n",
    "print()\n",
    "\n",
    "accuracies = []\n",
    "\n",
    "kf = KFold(n_splits=7)\n",
    "i = 0\n",
    "for train_index, val_index in kf.split(x_train):\n",
    "    # keep track of iteration\n",
    "    i += 1\n",
    "    x_train_small, x_val_small = x_train_minmax[train_index], x_train_minmax[val_index]\n",
    "    y_train_small, y_val_small = y_train.iloc[train_index], y_train.iloc[val_index]\n",
    "    LogisticRegressionModel = linear_model.LogisticRegression()\n",
    "    print ('Iteration ' + str(i) + ': Training a logistic Regression Model..')\n",
    "    LogisticRegressionModel.fit(x_train_small, y_train_small)\n",
    "    val_accuracy=LogisticRegressionModel.score(x_val_small,y_val_small)\n",
    "    accuracies.append(val_accuracy)\n",
    "    print(\"Validation accuracy at iteration \" + str(i) + \" is \" + str(val_accuracy) + '\\n')\n",
    "\n",
    "cv_accuracy = np.mean(accuracies)\n",
    "print(\"The cross validation accuracy is \" + str(cv_accuracy) + '\\n')\n",
    "\n",
    "comment = \"As we can see from the comparasion of the model accuracy with and without min max preprocessing that the model with the min max preprocessing is able to achieve 82% validation accuracy while the one without can only achieve 79% accuracy. Thus shows the min-max scaling preprocessing is able to help us with training our classification model.\"\n",
    "print(comment)"
   ]
  },
  {
   "cell_type": "code",
   "execution_count": null,
   "metadata": {},
   "outputs": [],
   "source": []
  }
 ],
 "metadata": {
  "kernel_info": {
   "name": "data-x"
  },
  "kernelspec": {
   "display_name": "Python 3",
   "language": "python",
   "name": "python3"
  },
  "language_info": {
   "codemirror_mode": {
    "name": "ipython",
    "version": 3
   },
   "file_extension": ".py",
   "mimetype": "text/x-python",
   "name": "python",
   "nbconvert_exporter": "python",
   "pygments_lexer": "ipython3",
   "version": "3.7.1"
  },
  "nteract": {
   "version": "0.7.1"
  }
 },
 "nbformat": 4,
 "nbformat_minor": 2
}
